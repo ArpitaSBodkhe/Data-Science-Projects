{
 "cells": [
  {
   "cell_type": "code",
   "execution_count": 1,
   "id": "26d031fc",
   "metadata": {},
   "outputs": [],
   "source": [
    "import requests\n",
    "from bs4 import BeautifulSoup\n",
    "url = \"https://www.opindia.com/latest-news/\"\n",
    "data = requests.get(url)"
   ]
  },
  {
   "cell_type": "code",
   "execution_count": 2,
   "id": "579824e0",
   "metadata": {},
   "outputs": [
    {
     "data": {
      "text/plain": [
       "<Response [200]>"
      ]
     },
     "execution_count": 2,
     "metadata": {},
     "output_type": "execute_result"
    }
   ],
   "source": [
    "data"
   ]
  },
  {
   "cell_type": "code",
   "execution_count": 3,
   "id": "eca2f061",
   "metadata": {},
   "outputs": [],
   "source": [
    "#data.content"
   ]
  },
  {
   "cell_type": "code",
   "execution_count": 4,
   "id": "edf17fad",
   "metadata": {},
   "outputs": [],
   "source": [
    "soup = BeautifulSoup(data.content)"
   ]
  },
  {
   "cell_type": "code",
   "execution_count": 5,
   "id": "2253f9f8",
   "metadata": {},
   "outputs": [],
   "source": [
    "def fetch_article(url):\n",
    "    data = requests.get(url)\n",
    "    soup = BeautifulSoup(data.content,\"html.parser\")\n",
    "    articles = []\n",
    "    for i in soup.find_all(\"h3\",class_ = [\"entry-title td-module-title\"]):\n",
    "        articles.append(i.find('a')['title'])     \n",
    "    return articles"
   ]
  },
  {
   "cell_type": "code",
   "execution_count": 6,
   "id": "c3fe1df7",
   "metadata": {},
   "outputs": [],
   "source": [
    "urllist = []\n",
    "for i in range(2,21,1):\n",
    "    url = \"https://www.opindia.com/latest-news/page/\" + str(i) + \"/\"\n",
    "    urllist.append(url)"
   ]
  },
  {
   "cell_type": "code",
   "execution_count": 7,
   "id": "ac8ebcbc",
   "metadata": {},
   "outputs": [],
   "source": [
    "#urllist"
   ]
  },
  {
   "cell_type": "code",
   "execution_count": 8,
   "id": "11e2501f",
   "metadata": {},
   "outputs": [],
   "source": [
    "all_articles = []\n",
    "for i in urllist:\n",
    "    all_articles.extend(fetch_article(i))"
   ]
  },
  {
   "cell_type": "code",
   "execution_count": 9,
   "id": "7fbb6daf",
   "metadata": {},
   "outputs": [],
   "source": [
    "p_art =[]\n",
    "for i in all_articles:\n",
    "    q = i.upper()\n",
    "    import re\n",
    "    q = re.sub(\"[^A-Z0-9 ]\",\"\",q)\n",
    "    from nltk.stem import PorterStemmer\n",
    "    tk_q = q.split(\" \")\n",
    "    sent = \"\"\n",
    "    for j in tk_q:\n",
    "        ps = PorterStemmer()\n",
    "        sent = sent + \" \" + ps.stem(j).upper()\n",
    "    p_art.append(sent)"
   ]
  },
  {
   "cell_type": "code",
   "execution_count": 10,
   "id": "f7acdc70",
   "metadata": {},
   "outputs": [],
   "source": [
    "from sklearn.feature_extraction.text import TfidfVectorizer\n",
    "tf = TfidfVectorizer()\n",
    "A = tf.fit_transform(p_art).toarray()"
   ]
  },
  {
   "cell_type": "code",
   "execution_count": 11,
   "id": "2e6f3a57",
   "metadata": {},
   "outputs": [],
   "source": [
    "from sklearn.cluster import KMeans\n",
    "km = KMeans(n_clusters=5)\n",
    "cl_res = km.fit(A)"
   ]
  },
  {
   "cell_type": "code",
   "execution_count": 12,
   "id": "4139fb40",
   "metadata": {},
   "outputs": [
    {
     "data": {
      "text/plain": [
       "array([1, 3, 1, ..., 2, 2, 2])"
      ]
     },
     "execution_count": 12,
     "metadata": {},
     "output_type": "execute_result"
    }
   ],
   "source": [
    "cl_res.labels_"
   ]
  },
  {
   "cell_type": "code",
   "execution_count": 13,
   "id": "fc952022",
   "metadata": {},
   "outputs": [
    {
     "ename": "NameError",
     "evalue": "name 'pd' is not defined",
     "output_type": "error",
     "traceback": [
      "\u001b[1;31m---------------------------------------------------------------------------\u001b[0m",
      "\u001b[1;31mNameError\u001b[0m                                 Traceback (most recent call last)",
      "\u001b[1;32m~\\AppData\\Local\\Temp/ipykernel_3460/1302801772.py\u001b[0m in \u001b[0;36m<module>\u001b[1;34m\u001b[0m\n\u001b[1;32m----> 1\u001b[1;33m \u001b[0mQ\u001b[0m \u001b[1;33m=\u001b[0m \u001b[0mpd\u001b[0m\u001b[1;33m.\u001b[0m\u001b[0mDataFrame\u001b[0m\u001b[1;33m(\u001b[0m\u001b[0mp_art\u001b[0m\u001b[1;33m,\u001b[0m\u001b[0mcolumns\u001b[0m\u001b[1;33m=\u001b[0m\u001b[1;33m[\u001b[0m\u001b[1;34m\"Article\"\u001b[0m\u001b[1;33m]\u001b[0m\u001b[1;33m)\u001b[0m\u001b[1;33m\u001b[0m\u001b[1;33m\u001b[0m\u001b[0m\n\u001b[0m\u001b[0;32m      2\u001b[0m \u001b[0mQ\u001b[0m\u001b[1;33m[\u001b[0m\u001b[1;34m'Cluster'\u001b[0m\u001b[1;33m]\u001b[0m\u001b[1;33m=\u001b[0m\u001b[0mcl_res\u001b[0m\u001b[1;33m.\u001b[0m\u001b[0mlabels_\u001b[0m\u001b[1;33m\u001b[0m\u001b[1;33m\u001b[0m\u001b[0m\n",
      "\u001b[1;31mNameError\u001b[0m: name 'pd' is not defined"
     ]
    }
   ],
   "source": [
    "Q = pd.DataFrame(p_art,columns=[\"Article\"])\n",
    "Q['Cluster']=cl_res.labels_"
   ]
  },
  {
   "cell_type": "code",
   "execution_count": null,
   "id": "2b259b98",
   "metadata": {},
   "outputs": [],
   "source": [
    "Q.head()"
   ]
  },
  {
   "cell_type": "code",
   "execution_count": null,
   "id": "70035990",
   "metadata": {},
   "outputs": [],
   "source": [
    "1 --> politics\n",
    "2 --> religion\n",
    "3 --> sports\n",
    "4 --> entertainment\n",
    "0 --> geopolitics"
   ]
  },
  {
   "cell_type": "code",
   "execution_count": null,
   "id": "f5354bea",
   "metadata": {},
   "outputs": [],
   "source": [
    "E = {1 : \"politics\",\n",
    "2 : \"religion\",\n",
    "3 : \"sports\",\n",
    "4 : \"entertainment\",\n",
    "0 : \"geopolitics\"}"
   ]
  },
  {
   "cell_type": "code",
   "execution_count": null,
   "id": "9f8973af",
   "metadata": {},
   "outputs": [],
   "source": [
    "R = []\n",
    "for i in Q.Cluster:\n",
    "    R.append(E[i])\n",
    "\n",
    "Q['category'] = R"
   ]
  },
  {
   "cell_type": "code",
   "execution_count": null,
   "id": "7dfc7590",
   "metadata": {},
   "outputs": [],
   "source": [
    "Q"
   ]
  },
  {
   "cell_type": "code",
   "execution_count": null,
   "id": "60cc350d",
   "metadata": {},
   "outputs": [],
   "source": []
  }
 ],
 "metadata": {
  "kernelspec": {
   "display_name": "Python 3 (ipykernel)",
   "language": "python",
   "name": "python3"
  },
  "language_info": {
   "codemirror_mode": {
    "name": "ipython",
    "version": 3
   },
   "file_extension": ".py",
   "mimetype": "text/x-python",
   "name": "python",
   "nbconvert_exporter": "python",
   "pygments_lexer": "ipython3",
   "version": "3.8.12"
  }
 },
 "nbformat": 4,
 "nbformat_minor": 5
}
